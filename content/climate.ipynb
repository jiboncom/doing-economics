{
 "cells": [
  {
   "cell_type": "markdown",
   "metadata": {},
   "source": [
    "# Empirical Project 1: Working in R code\n",
    "\n",
    "These code downloads have been constructed as supplements to the full Doing Economics projects (https://core-econ.org/doing-economics/). You'll need to download the data before running the code that follows. \n",
    "\n",
    "## Part 1.1 The behaviour of average surface temperature over time\n",
    "\n",
    "### R walk-through 1.1 Importing the datafile into R\n",
    "\n",
    "We want to import the datafile called 'NH.Ts+dSST.csv' into R. \n",
    "\n",
    "We start by setting our working directory using the `setwd` command. This command tells R where your datafiles are stored. In the code below, replace 'YOURFILEPATH' with the full filepath that indicates the folder in which you have saved the datafile. If you don't know how to find the path to your working folder, see the 'Technical Reference' section (https://tinyco.re/3407438). \n"
   ]
  },
  {
   "cell_type": "code",
   "execution_count": null,
   "metadata": {},
   "outputs": [],
   "source": [
    "setwd(\"./\")"
   ]
  },
  {
   "cell_type": "markdown",
   "metadata": {},
   "source": [
    "Since our data is in csv format, we use the `read.csv` function to import the data into R. We will call our file 'tempdata' (short for 'temperature data').\n",
    "\n",
    "Here you can see commands to R which are spread across two lines. You can spread a command across multiple lines, but you must adhere to the following two rules for this to work. First, the line break should come inside a set of parenthesis (i.e. between `(` and `)` or straight after the assignment operator (`<-`). Second, the line break must not be inside a string (whatever is inside quotes) or in the middle of a word or number."
   ]
  },
  {
   "cell_type": "code",
   "execution_count": null,
   "metadata": {},
   "outputs": [],
   "source": [
    "tempdata <- read.csv(\"NH.Ts+dSST.csv\",\n",
    "  skip = 1, na.strings = \"***\") "
   ]
  },
  {
   "cell_type": "markdown",
   "metadata": {},
   "source": [
    "When using this function, we added two options. If you open the spreadsheet in Excel, you will see that the real data table only starts in Row 2, so we use the `skip = 1` option to skip the first row when importing the data. When looking at the spreadsheet, you can see that missing temperature data is coded as `\"***\"`. In order for R to recognise the non-missing temperature data as numbers, we use  the `na.strings = \"***\"` option to indicate that missing observations in the spreadsheet are coded as `\"***\"`. \n",
    "\n",
    "To check that the data has been imported correctly, you can use the `head` function to view the first six rows of the dataset, and confirm that they correspond to the columns in the csv file."
   ]
  },
  {
   "cell_type": "code",
   "execution_count": null,
   "metadata": {},
   "outputs": [],
   "source": [
    "head(tempdata)"
   ]
  },
  {
   "cell_type": "markdown",
   "metadata": {},
   "source": [
    "Before working with the important data, we use the `str` function to check that the data is formatted correctly."
   ]
  },
  {
   "cell_type": "code",
   "execution_count": null,
   "metadata": {},
   "outputs": [],
   "source": [
    "str(tempdata)"
   ]
  },
  {
   "cell_type": "markdown",
   "metadata": {},
   "source": [
    "You can see that all variables are formatted as numerical data (`num`), so R correctly recognises that the data are numbers. \n",
    "\n",
    "---\n",
    "\n",
    "**End-of-Walkthrough**\n",
    "\n",
    "---"
   ]
  },
  {
   "cell_type": "markdown",
   "metadata": {},
   "source": [
    "### R walk-through 1.2 Drawing a line chart of temperature and time\n"
   ]
  },
  {
   "cell_type": "markdown",
   "metadata": {},
   "source": []
  }
 ],
 "metadata": {
  "language_info": {
   "name": "python"
  }
 },
 "nbformat": 4,
 "nbformat_minor": 2
}
